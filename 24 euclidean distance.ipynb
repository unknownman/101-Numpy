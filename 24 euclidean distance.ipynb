{
 "cells": [
  {
   "cell_type": "markdown",
   "id": "f8eb5114-5234-4786-9636-3b02f3884e11",
   "metadata": {},
   "source": [
    "$$\n",
    "\\vec{a} = \\begin{pmatrix}\n",
    "a_1 \\\\\n",
    "a_2 \\\\\n",
    "\\vdots \\\\\n",
    "a_n\n",
    "\\end{pmatrix}\n",
    "$$\n",
    "\n",
    "$$\n",
    "\\vec{b} = \\begin{pmatrix}\n",
    "b_1 \\\\\n",
    "b_2 \\\\\n",
    "\\vdots \\\\\n",
    "b_n\n",
    "\\end{pmatrix}\n",
    "$$\n",
    "\n",
    "$$\n",
    "d(a, b) = \\sqrt{\\sum_{i=1}^n (a_i - b_i)^2}\n",
    "$$"
   ]
  },
  {
   "cell_type": "code",
   "execution_count": 3,
   "id": "91d7dab6-de47-437f-8dd8-93a3c5b8ad68",
   "metadata": {},
   "outputs": [
    {
     "name": "stdout",
     "output_type": "stream",
     "text": [
      "Euclidean Distance: 5.196152422706632\n",
      "Distances: [0.         4.24264069 8.48528137]\n"
     ]
    }
   ],
   "source": [
    "import numpy as np\n",
    "\n",
    "def euclidean_distance(a, b):\n",
    "  return np.sqrt(np.sum((a - b)**2))\n",
    "\n",
    "vector1 = np.array([1, 2, 3])\n",
    "vector2 = np.array([4, 5, 6])\n",
    "\n",
    "distance = euclidean_distance(vector1, vector2)\n",
    "print(\"Euclidean Distance:\", distance)\n",
    "\n",
    "vectors = np.array([[1, 2], [4, 5], [7, 8]])\n",
    "distances = np.linalg.norm(vectors - vectors[0], axis=1) # محاسبه فاصله هر بردار از بردار اول\n",
    "print(\"Distances:\", distances)"
   ]
  }
 ],
 "metadata": {
  "kernelspec": {
   "display_name": "Python 3 (ipykernel)",
   "language": "python",
   "name": "python3"
  },
  "language_info": {
   "codemirror_mode": {
    "name": "ipython",
    "version": 3
   },
   "file_extension": ".py",
   "mimetype": "text/x-python",
   "name": "python",
   "nbconvert_exporter": "python",
   "pygments_lexer": "ipython3",
   "version": "3.12.8"
  }
 },
 "nbformat": 4,
 "nbformat_minor": 5
}
