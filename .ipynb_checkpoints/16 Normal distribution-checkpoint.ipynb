{
 "cells": [
  {
   "cell_type": "markdown",
   "id": "def66478-81c5-414c-8031-89e7e25c5bbc",
   "metadata": {},
   "source": [
    "### <div dir=\"rtl\"> مفهوم ریاضی توزیع نرمال:</div>\n"
   ]
  },
  {
   "attachments": {},
   "cell_type": "markdown",
   "id": "337df31e-c437-434c-9d38-a4c8278d5df7",
   "metadata": {},
   "source": [
    "$$\n",
    "f(x) = \\frac{1}{\\sqrt{2\\pi\\sigma^2}} e^{-\\frac{(x - \\mu)^2}{2\\sigma^2}}\n",
    "$$\n",
    "\n",
    "<img src=\"https://upload.wikimedia.org/wikipedia/commons/thumb/7/74/Normal_Distribution_PDF.svg/2880px-Normal_Distribution_PDF.svg.png\" />\n"
   ]
  },
  {
   "cell_type": "markdown",
   "id": "9c23f53e-7734-4e36-92e0-35821d7a8a13",
   "metadata": {},
   "source": [
    "### <div dir=\"rtl\" style=\"padding-top:50px\"> پیاده‌سازی توزیع نرمال با Numpy:</div>"
   ]
  },
  {
   "cell_type": "code",
   "execution_count": null,
   "id": "e8442c6c-4370-4575-af93-39a3eb7d19cb",
   "metadata": {},
   "outputs": [],
   "source": [
    "import numpy as np\n",
    "import matplotlib.pyplot as plt\n",
    "\n",
    "mu = 0\n",
    "sigma = 1 \n",
    "size = 1000\n",
    "\n",
    "data = np.random.notmal(mu, sigma, size)\n",
    "plt.hist(data, bins=30, density=True, alpha=0.6, color='b')\n",
    "x = np.linspace(mu - 3*sigma, mu + 3*sigma, 100)\n",
    "pdf = (1 / (np.sqrt(2 * np.pi * sigma**2))) * np.exp(-((x - mu)**2) / (2 * sigma**2))\n",
    "plt.plot(x, pdf, 'r')\n",
    "\n",
    "plt.title('Normal Distribution')\n",
    "plt.xlabel('Value')\n",
    "plt.ylabel('Density')\n",
    "plt.show()"
   ]
  },
  {
   "cell_type": "code",
   "execution_count": null,
   "id": "6175c748-8732-40e4-a85e-dea2e1bd06c0",
   "metadata": {},
   "outputs": [],
   "source": []
  }
 ],
 "metadata": {
  "kernelspec": {
   "display_name": "Python 3 (ipykernel)",
   "language": "python",
   "name": "python3"
  },
  "language_info": {
   "codemirror_mode": {
    "name": "ipython",
    "version": 3
   },
   "file_extension": ".py",
   "mimetype": "text/x-python",
   "name": "python",
   "nbconvert_exporter": "python",
   "pygments_lexer": "ipython3",
   "version": "3.12.8"
  }
 },
 "nbformat": 4,
 "nbformat_minor": 5
}
