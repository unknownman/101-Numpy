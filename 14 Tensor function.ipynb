{
 "cells": [
  {
   "attachments": {},
   "cell_type": "markdown",
   "id": "3c6cbbdf-e15f-4a0d-8e78-d0a2a53c5c3e",
   "metadata": {},
   "source": [
    "$$\n",
    "scalar=5\n",
    "$$\n",
    "$$\n",
    "vector=[1,2]\n",
    "$$\n",
    "$$\n",
    "matrix=[[1,2],[3,4]]\n",
    "$$\n",
    "$$\n",
    "tensor_3d=[[[1, 2], [3, 4]], [[5, 6], [7, 8]]]\n",
    "$$\n",
    "<img src=\"https://editor.analyticsvidhya.com/uploads/64798tensor.png\" />\n"
   ]
  },
  {
   "cell_type": "code",
   "execution_count": null,
   "id": "095741e5-7101-478b-abb4-90c702a33df8",
   "metadata": {},
   "outputs": [
    {
     "name": "stdout",
     "output_type": "stream",
     "text": [
      "Scalar: 5\n",
      "Vector: [1 2 3]\n",
      "Matrix: [[1 2]\n",
      " [3 4]]\n",
      "3D Tensor: [[[1 2]\n",
      "  [3 4]]\n",
      "\n",
      " [[5 6]\n",
      "  [7 8]]]\n",
      "Scalar Dimension: 0\n",
      "Vector Dimension: 1\n",
      "Matrix Dimension: 2\n",
      "3D Tensor Dimension: 3\n",
      "Scalar Shape: ()\n",
      "Vector Shape: (3,)\n",
      "Matrix Shape: (2, 2)\n",
      "3D Tensor Shape: (2, 2, 2)\n"
     ]
    }
   ],
   "source": [
    "import numpy as np\n",
    "\n",
    "scalar = np.array(5)\n",
    "\n",
    "vector = np.array([1, 2, 3])\n",
    "\n",
    "matrix = np.array([[1, 2], [3, 4]])\n",
    "\n",
    "tensor_3d = np.array([[[1, 2], [3, 4]], [[5, 6], [7, 8]]])\n",
    "\n",
    "print(\"Scalar:\", scalar)\n",
    "print(\"Vector:\", vector)\n",
    "print(\"Matrix:\", matrix)\n",
    "print(\"3D Tensor:\", tensor_3d)\n",
    "\n",
    "print(\"Scalar Dimension:\", scalar.ndim) \n",
    "print(\"Vector Dimension:\", vector.ndim)\n",
    "print(\"Matrix Dimension:\", matrix.ndim)\n",
    "print(\"3D Tensor Dimension:\", tensor_3d.ndim)\n",
    "\n",
    "print(\"Scalar Shape:\", scalar.shape) \n",
    "print(\"Vector Shape:\", vector.shape)\n",
    "print(\"Matrix Shape:\", matrix.shape)\n",
    "print(\"3D Tensor Shape:\", tensor_3d.shape)"
   ]
  }
 ],
 "metadata": {
  "kernelspec": {
   "display_name": "Python 3 (ipykernel)",
   "language": "python",
   "name": "python3"
  },
  "language_info": {
   "codemirror_mode": {
    "name": "ipython",
    "version": 3
   },
   "file_extension": ".py",
   "mimetype": "text/x-python",
   "name": "python",
   "nbconvert_exporter": "python",
   "pygments_lexer": "ipython3",
   "version": "3.12.8"
  }
 },
 "nbformat": 4,
 "nbformat_minor": 5
}
