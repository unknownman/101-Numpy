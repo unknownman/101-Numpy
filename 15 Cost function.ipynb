{
 "cells": [
  {
   "cell_type": "markdown",
   "id": "0b5a36ea-f78c-43f1-a33b-7ec36f6fc264",
   "metadata": {},
   "source": [
    "<font size=\"5\">\n",
    "$$\n",
    "J(\\theta) = \\frac{1}{2m} \\sum_{i=1}^m (h_\\theta(x^{(i)}) - y^{(i)})^2\n",
    "$$\n",
    "</font>\n",
    "\n",
    "*   m: تعداد نمونه‌های آموزشی\n",
    "*   $x^{(i)}$: ورودی i-امین نمونه\n",
    "*   $y^{(i)}$: خروجی واقعی i-امین نمونه\n",
    "*   $h_\\theta(x^{(i)})$: پیش‌بینی مدل برای ورودی i-امین نمونه\n",
    "*   $\\theta$: پارامترهای مدل\n",
    "\n"
   ]
  },
  {
   "cell_type": "code",
   "execution_count": null,
   "id": "42282cd4",
   "metadata": {},
   "outputs": [],
   "source": []
  },
  {
   "cell_type": "code",
   "execution_count": 1,
   "id": "fb004052-f6b9-4fad-8df8-3b67d82e4b84",
   "metadata": {},
   "outputs": [
    {
     "name": "stdout",
     "output_type": "stream",
     "text": [
      "Cost: 0.3333333333333333\n"
     ]
    }
   ],
   "source": [
    "import numpy as np\n",
    "\n",
    "def cost_function(X, y , theta):\n",
    "    m = len(y)\n",
    "    predictions = X @ theta\n",
    "    errors = predictions - y\n",
    "    cost = np.sum(errors**2) / (2 * m)\n",
    "    return cost\n",
    "\n",
    "X = np.array([[1,2],[1,3],[1,4]])\n",
    "y = np.array([3,5,6])\n",
    "theta = np.array([1,1])\n",
    "\n",
    "cost = cost_function(X,y, theta)\n",
    "print(\"Cost:\", cost)"
   ]
  }
 ],
 "metadata": {
  "kernelspec": {
   "display_name": "Python 3 (ipykernel)",
   "language": "python",
   "name": "python3"
  },
  "language_info": {
   "codemirror_mode": {
    "name": "ipython",
    "version": 3
   },
   "file_extension": ".py",
   "mimetype": "text/x-python",
   "name": "python",
   "nbconvert_exporter": "python",
   "pygments_lexer": "ipython3",
   "version": "3.12.8"
  }
 },
 "nbformat": 4,
 "nbformat_minor": 5
}
